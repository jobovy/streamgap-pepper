{
 "cells": [
  {
   "cell_type": "code",
   "execution_count": 1,
   "metadata": {
    "collapsed": false
   },
   "outputs": [
    {
     "name": "stdout",
     "output_type": "stream",
     "text": [
      "Populating the interactive namespace from numpy and matplotlib\n"
     ]
    }
   ],
   "source": [
    "try:\n",
    "    reload(galpy.df_src.streampepperdf)\n",
    "    reload(galpy.df_src.streampepperdf.galpy.df_src.streamgapdf)\n",
    "    reload(galpy.df_src.streampepperdf.galpy.df_src.streamdf)\n",
    "except NameError:\n",
    "    import galpy.df_src.streampepperdf\n",
    "import time\n",
    "import numpy\n",
    "from scipy import signal, ndimage\n",
    "import statsmodels.api as sm\n",
    "from galpy.potential import LogarithmicHaloPotential\n",
    "from galpy.orbit import Orbit\n",
    "from galpy.actionAngle import actionAngleIsochroneApprox\n",
    "from galpy.util import bovy_conversion, bovy_coords\n",
    "from galpy.util import bovy_plot\n",
    "%pylab inline\n",
    "import seaborn as sns\n",
    "R0, V0= 8., 220."
   ]
  },
  {
   "cell_type": "code",
   "execution_count": 2,
   "metadata": {
    "collapsed": false
   },
   "outputs": [
    {
     "name": "stdout",
     "output_type": "stream",
     "text": [
      "galpyWarning: Using C implementation to integrate orbits\n"
     ]
    }
   ],
   "source": [
    "lp= LogarithmicHaloPotential(normalize=1.,q=0.9)\n",
    "xv_prog_init= numpy.array([30.,0.,0.,0., 105.74895, 105.74895])\n",
    "def convert_to_cylindrical(xv):\n",
    "    R,phi,Z= bovy_coords.rect_to_cyl(xv[:,0],xv[:,1],xv[:,2])\n",
    "    vR,vT,vZ= bovy_coords.rect_to_cyl_vec(xv[:,3],xv[:,4],xv[:,5],R,phi,Z,cyl=True)\n",
    "    out= numpy.empty_like(xv)\n",
    "    # Preferred galpy arrangement of cylindrical coordinates\n",
    "    out[:,0]= R\n",
    "    out[:,1]= vR\n",
    "    out[:,2]= vT\n",
    "    out[:,3]= Z\n",
    "    out[:,4]= vZ\n",
    "    out[:,5]= phi\n",
    "    return out\n",
    "sigv= 0.365*(10./2.)**(1./3.)\n",
    "RvR_prog_init= convert_to_cylindrical(xv_prog_init[:,numpy.newaxis].T)[0,:]\n",
    "prog_init= Orbit([RvR_prog_init[0]/R0,RvR_prog_init[1]/V0,RvR_prog_init[2]/V0,\n",
    "                  RvR_prog_init[3]/R0,RvR_prog_init[4]/V0,RvR_prog_init[5]])\n",
    "times= numpy.linspace(0.,10.88/bovy_conversion.time_in_Gyr(V0,R0),10001)\n",
    "prog_init.integrate(times,lp)\n",
    "xv_unp_peri_prog= [prog_init.x(times[-1]),prog_init.y(times[-1]),prog_init.z(times[-1]),\n",
    "              prog_init.vx(times[-1]),prog_init.vy(times[-1]),prog_init.vz(times[-1])]\n",
    "RvR_unp_peri_prog= convert_to_cylindrical(numpy.array(xv_unp_peri_prog)[:,numpy.newaxis].T)[0,:]\n",
    "prog_unp_peri= Orbit([RvR_unp_peri_prog[0],RvR_unp_peri_prog[1],RvR_unp_peri_prog[2],\n",
    "                      RvR_unp_peri_prog[3]+0.0,RvR_unp_peri_prog[4],RvR_unp_peri_prog[5]])\n",
    "aAI= actionAngleIsochroneApprox(pot=lp,b=0.8)"
   ]
  },
  {
   "cell_type": "code",
   "execution_count": 3,
   "metadata": {
    "collapsed": false
   },
   "outputs": [],
   "source": [
    "sdf_pepper_2impacts= galpy.df_src.streampepperdf.streampepperdf(\\\n",
    "    sigv/V0,progenitor=prog_unp_peri,pot=lp,aA=aAI,\n",
    "    leading=False,nTrackChunks=26,nTrackIterations=1,\n",
    "    sigMeanOffset=4.5,\n",
    "    tdisrupt=10.88/bovy_conversion.time_in_Gyr(V0,R0),\n",
    "    Vnorm=V0,Rnorm=R0,\n",
    "    impactb=[0.1/R0,0./R0],\n",
    "    subhalovel=numpy.array([[36.82200571,102.7700529,169.4174464],\n",
    "                            [6.82200571,132.7700529,149.4174464]])/V0,\n",
    "    timpact=[2.88/bovy_conversion.time_in_Gyr(V0,R0),1.88/bovy_conversion.time_in_Gyr(V0,R0)],\n",
    "    impact_angle=[-1.34,-0.34],\n",
    "    GM=[10.**-2.2/bovy_conversion.mass_in_1010msol(V0,R0),10.**-2./bovy_conversion.mass_in_1010msol(V0,R0)],\n",
    "    rs=[0.55/R0,0.625/R0],\n",
    "    spline_order=1) "
   ]
  },
  {
   "cell_type": "code",
   "execution_count": 12,
   "metadata": {
    "collapsed": false
   },
   "outputs": [],
   "source": [
    "def nsubhalo(m):\n",
    "    return 0.3*(10.**6.5/m)\n",
    "def rs(m):\n",
    "    return 1.05/R0*(m/10.**8.)**0.5\n",
    "def dNencdm(m,Xrs=3.):\n",
    "    return 10.*sdf_pepper_2impacts.subhalo_encounters(sigma=120./220.,nsubhalo=nsubhalo(m),bmax=Xrs*rs(m))"
   ]
  },
  {
   "cell_type": "code",
   "execution_count": 13,
   "metadata": {
    "collapsed": false
   },
   "outputs": [],
   "source": [
    "m=10.**5.5\n",
    "sdf_pepper_2impacts.simulate(rate=dNencdm(m,Xrs=3.),\n",
    "                            sample_GM=lambda: m/10.**10./bovy_conversion.mass_in_1010msol(V0,R0),\n",
    "                            sample_rs=lambda x: rs(x*bovy_conversion.mass_in_1010msol(V0,R0)*10.**10.),\n",
    "                            Xrs=3.)"
   ]
  },
  {
   "cell_type": "code",
   "execution_count": 31,
   "metadata": {
    "collapsed": false
   },
   "outputs": [
    {
     "data": {
      "text/plain": [
       "(array([ 0.64306728,  0.59035684,  0.42168346,  0.40059929,  0.40059929,\n",
       "         0.47439389,  0.41114137,  0.40059929,  0.47439389,  0.41114137]),\n",
       " array([ 0.00664769,  0.22272487,  0.43880205,  0.65487923,  0.87095641,\n",
       "         1.08703359,  1.30311077,  1.51918795,  1.73526513,  1.95134231,\n",
       "         2.16741949]),\n",
       " <a list of 1 Patch objects>)"
      ]
     },
     "execution_count": 31,
     "metadata": {},
     "output_type": "execute_result"
    },
    {
     "data": {
      "image/png": "[encoded data removed]",
      "text/plain": [
       "<matplotlib.figure.Figure at 0x19353da50>"
      ]
     },
     "metadata": {},
     "output_type": "display_data"
    }
   ],
   "source": [
    "hist(-sdf_pepper_2impacts._impact_angle[sdf_pepper_2impacts._timpact == sdf_pepper_2impacts._uniq_timpact[0]],\n",
    "    normed=True,histtype='step',lw=3.)\n",
    "hist(-sdf_pepper_2impacts._impact_angle[sdf_pepper_2impacts._timpact == sdf_pepper_2impacts._uniq_timpact[1]],\n",
    "    normed=True,histtype='step',lw=3.)"
   ]
  },
  {
   "cell_type": "code",
   "execution_count": 18,
   "metadata": {
    "collapsed": false
   },
   "outputs": [
    {
     "name": "stdout",
     "output_type": "stream",
     "text": [
      "699 4.04452818914\n",
      "439 2.29096398656\n"
     ]
    }
   ],
   "source": [
    "print numpy.sum(sdf_pepper_2impacts._timpact == sdf_pepper_2impacts._uniq_timpact[0]), \\\n",
    "    sdf_pepper_2impacts._stream_len[sdf_pepper_2impacts._uniq_timpact[0]]\n",
    "print numpy.sum(sdf_pepper_2impacts._timpact == sdf_pepper_2impacts._uniq_timpact[1]), \\\n",
    "    sdf_pepper_2impacts._stream_len[sdf_pepper_2impacts._uniq_timpact[1]]"
   ]
  },
  {
   "cell_type": "code",
   "execution_count": 20,
   "metadata": {
    "collapsed": false
   },
   "outputs": [
    {
     "name": "stdout",
     "output_type": "stream",
     "text": [
      "172.826091774\n",
      "191.622392397\n"
     ]
    }
   ],
   "source": [
    "print numpy.sum(sdf_pepper_2impacts._timpact == sdf_pepper_2impacts._uniq_timpact[0])/sdf_pepper_2impacts._stream_len[sdf_pepper_2impacts._uniq_timpact[0]]\n",
    "print numpy.sum(sdf_pepper_2impacts._timpact == sdf_pepper_2impacts._uniq_timpact[1])/sdf_pepper_2impacts._stream_len[sdf_pepper_2impacts._uniq_timpact[1]]"
   ]
  },
  {
   "cell_type": "code",
   "execution_count": 22,
   "metadata": {
    "collapsed": false
   },
   "outputs": [
    {
     "name": "stdout",
     "output_type": "stream",
     "text": [
      "1.59225512528\n",
      "1.76542635016\n"
     ]
    }
   ],
   "source": [
    "print numpy.sum(sdf_pepper_2impacts._timpact == sdf_pepper_2impacts._uniq_timpact[0])/float(numpy.sum(sdf_pepper_2impacts._timpact == sdf_pepper_2impacts._uniq_timpact[1]))\n",
    "print sdf_pepper_2impacts._stream_len[sdf_pepper_2impacts._uniq_timpact[0]]/sdf_pepper_2impacts._stream_len[sdf_pepper_2impacts._uniq_timpact[1]]"
   ]
  },
  {
   "cell_type": "code",
   "execution_count": 32,
   "metadata": {
    "collapsed": false
   },
   "outputs": [
    {
     "data": {
      "text/plain": [
       "[<matplotlib.lines.Line2D at 0x193752c10>]"
      ]
     },
     "execution_count": 32,
     "metadata": {},
     "output_type": "execute_result"
    },
    {
     "data": {
      "image/png": "[encoded data removed]",
      "text/plain": [
       "<matplotlib.figure.Figure at 0x1935e0fd0>"
      ]
     },
     "metadata": {},
     "output_type": "display_data"
    }
   ],
   "source": [
    "qs= numpy.linspace(0.,1.,1001)\n",
    "plot(sdf_pepper_2impacts._icdf_stream_len[sdf_pepper_2impacts._uniq_timpact[0]](qs),qs)\n",
    "plot(sdf_pepper_2impacts._icdf_stream_len[sdf_pepper_2impacts._uniq_timpact[1]](qs),qs)"
   ]
  },
  {
   "cell_type": "code",
   "execution_count": 36,
   "metadata": {
    "collapsed": false
   },
   "outputs": [],
   "source": [
    "import pickle\n",
    "du= pickle.dumps(sdf_pepper_2impacts,protocol=pickle.HIGHEST_PROTOCOL)"
   ]
  },
  {
   "cell_type": "code",
   "execution_count": 37,
   "metadata": {
    "collapsed": false
   },
   "outputs": [
    {
     "data": {
      "text/plain": [
       "2123310037"
      ]
     },
     "execution_count": 37,
     "metadata": {},
     "output_type": "execute_result"
    }
   ],
   "source": [
    "len(du)"
   ]
  },
  {
   "cell_type": "code",
   "execution_count": null,
   "metadata": {
    "collapsed": true
   },
   "outputs": [],
   "source": []
  }
 ],
 "metadata": {
  "kernelspec": {
   "display_name": "Python 2",
   "language": "python",
   "name": "python2"
  },
  "language_info": {
   "codemirror_mode": {
    "name": "ipython",
    "version": 2
   },
   "file_extension": ".py",
   "mimetype": "text/x-python",
   "name": "python",
   "nbconvert_exporter": "python",
   "pygments_lexer": "ipython2",
   "version": "2.7.10"
  }
 },
 "nbformat": 4,
 "nbformat_minor": 0
}
