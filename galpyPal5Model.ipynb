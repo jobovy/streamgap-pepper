{
 "cells": [
  {
   "cell_type": "code",
   "execution_count": 1,
   "metadata": {
    "collapsed": false
   },
   "outputs": [
    {
     "data": {
      "text/html": [
       "<script>\n",
       "code_show=true; \n",
       "function code_toggle() {\n",
       " if (code_show){\n",
       " $('div.input').hide();\n",
       " } else {\n",
       " $('div.input').show();\n",
       " }\n",
       " code_show = !code_show\n",
       "} \n",
       "$( document ).ready(code_toggle);\n",
       "</script>\n",
       "<form action=\"javascript:code_toggle()\"><input type=\"submit\" value=\"Click here to toggle on/off the raw code.\"></form>"
      ],
      "text/plain": [
       "<IPython.core.display.HTML object>"
      ]
     },
     "execution_count": 1,
     "metadata": {},
     "output_type": "execute_result"
    }
   ],
   "source": [
    "from IPython.display import HTML\n",
    "\n",
    "HTML('''<script>\n",
    "code_show=true; \n",
    "function code_toggle() {\n",
    " if (code_show){\n",
    " $('div.input').hide();\n",
    " } else {\n",
    " $('div.input').show();\n",
    " }\n",
    " code_show = !code_show\n",
    "} \n",
    "$( document ).ready(code_toggle);\n",
    "</script>\n",
    "<form action=\"javascript:code_toggle()\"><input type=\"submit\" value=\"Click here to toggle on/off the raw code.\"></form>''')"
   ]
  },
  {
   "cell_type": "code",
   "execution_count": 2,
   "metadata": {
    "collapsed": false
   },
   "outputs": [
    {
     "name": "stdout",
     "output_type": "stream",
     "text": [
      "Populating the interactive namespace from numpy and matplotlib\n"
     ]
    }
   ],
   "source": [
    "import numpy\n",
    "from galpy.potential import MWPotential2014\n",
    "from galpy.actionAngle import actionAngleIsochroneApprox\n",
    "from galpy.orbit import Orbit\n",
    "from galpy.df import streamdf\n",
    "from galpy.util import bovy_plot, bovy_conversion, bovy_coords\n",
    "import seaborn as sns\n",
    "import pal5_util\n",
    "%pylab inline\n",
    "R0,V0= 8., 220."
   ]
  },
  {
   "cell_type": "markdown",
   "metadata": {},
   "source": [
    "# A *galpy* model for Palomar 5 in MWPotential2014"
   ]
  },
  {
   "cell_type": "markdown",
   "metadata": {},
   "source": [
    "Setup the progenitor orbit and figure out a good actionAngleIsochroneApprox. We'll take the values from Fritz & Kallivayalil, and compare them to their stream positions and to the Kuzma et al. radial velocities. Provided we put Pal 5 at the maximum possible distance, this fits well:"
   ]
  },
  {
   "cell_type": "code",
   "execution_count": 3,
   "metadata": {
    "collapsed": false
   },
   "outputs": [],
   "source": [
    "prog= Orbit([229.018,-0.124,23.2,-2.296,-2.257,-58.7],radec=True,ro=R0,vo=V0,\n",
    "            solarmotion=[-11.1,24.,7.25])\n",
    "aAI= actionAngleIsochroneApprox(pot=MWPotential2014,b=0.8)\n",
    "sigv= 0.365 #km/s, same as for GD-1 in my paper"
   ]
  },
  {
   "cell_type": "code",
   "execution_count": 4,
   "metadata": {
    "collapsed": false
   },
   "outputs": [
    {
     "name": "stdout",
     "output_type": "stream",
     "text": [
      "galpyWarning: Using C implementation to integrate orbits\n"
     ]
    }
   ],
   "source": [
    "sdf_trailing= streamdf(sigv/220.,progenitor=prog,\n",
    "                       pot=MWPotential2014,aA=aAI,\n",
    "                       leading=False,nTrackChunks=11,\n",
    "                       tdisrupt=4./bovy_conversion.time_in_Gyr(V0,R0),\n",
    "                       Rnorm=R0,Vnorm=V0,R0=R0,\n",
    "                       vsun=[-11.1,V0+24.,7.25],\n",
    "                       custom_transform=pal5_util._TPAL5)\n",
    "sdf_leading= streamdf(sigv/220.,progenitor=prog,\n",
    "                      pot=MWPotential2014,aA=aAI,\n",
    "                      leading=True,nTrackChunks=11,\n",
    "                      tdisrupt=4./bovy_conversion.time_in_Gyr(V0,R0),\n",
    "                      Rnorm=R0,Vnorm=V0,R0=R0,\n",
    "                      vsun=[-11.1,V0+24.,7.25],\n",
    "                      custom_transform=pal5_util._TPAL5)\n",
    "trackRADec_trailing=\\\n",
    "  bovy_coords.lb_to_radec(sdf_trailing._interpolatedObsTrackLB[:,0],\n",
    "                          sdf_trailing._interpolatedObsTrackLB[:,1],\n",
    "                          degree=True)\n",
    "trackRADec_leading=\\\n",
    "  bovy_coords.lb_to_radec(sdf_leading._interpolatedObsTrackLB[:,0],\n",
    "                          sdf_leading._interpolatedObsTrackLB[:,1],\n",
    "                          degree=True)"
   ]
  },
  {
   "cell_type": "code",
   "execution_count": 5,
   "metadata": {
    "collapsed": true
   },
   "outputs": [],
   "source": [
    "lb_sample_trailing= sdf_trailing.sample(n=10000,lb=True)\n",
    "lb_sample_leading= sdf_leading.sample(n=10000,lb=True)\n",
    "radec_sample_trailing= bovy_coords.lb_to_radec(lb_sample_trailing[0],\n",
    "                                               lb_sample_trailing[1],\n",
    "                                               degree=True)\n",
    "radec_sample_leading= bovy_coords.lb_to_radec(lb_sample_leading[0],\n",
    "                                              lb_sample_leading[1],\n",
    "                                              degree=True)"
   ]
  },
  {
   "cell_type": "code",
   "execution_count": 6,
   "metadata": {
    "collapsed": false
   },
   "outputs": [],
   "source": [
    "pos_radec= numpy.array([[241.48,6.41,0.09],\n",
    "                        [240.98,6.15,0.09],\n",
    "                        [240.48,6.20,0.09],\n",
    "                        [239.98,5.81,0.09],\n",
    "                        [239.48,5.64,0.09],\n",
    "                        [238.48,5.38,0.09],\n",
    "                        [237.98,5.14,0.09],\n",
    "                        [233.61,3.17,0.06],\n",
    "                        [233.11,2.88,0.06],\n",
    "                        [232.61,2.54,0.06],\n",
    "                        [232.11,2.23,0.06],\n",
    "                        [231.61,2.04,0.06],\n",
    "                        [231.11,1.56,0.06],\n",
    "                        [230.11,0.85,0.06],\n",
    "                        [229.11,0.54,0.06],\n",
    "                        [228.48,-0.77,0.11],\n",
    "                        [228.11,-1.16,0.14],\n",
    "                        [227.73,-1.28,0.11],\n",
    "                        [227.23,-2.03,0.17],\n",
    "                        [226.55,-2.59,0.14]])\n",
    "rvel_ra= numpy.array([[225+15*15/60+48.19*0.25/60,-55.9,1.2],\n",
    "                        [225+15*15/60+49.70*0.25/60,-56.9,0.4],\n",
    "                        [225+15*15/60+52.60*0.25/60,-56.0,0.6],\n",
    "                        [225+15*15/60+54.79*0.25/60,-57.6,1.6],\n",
    "                        [225+15*15/60+56.11*0.25/60,-57.9,0.7],\n",
    "                        [225+15*15/60+57.05*0.25/60,-55.6,1.5],\n",
    "                        [225+15*15/60+58.26*0.25/60,-56.4,1.0],\n",
    "                        [225+15*15/60+58.89*0.25/60,-55.9,0.3],\n",
    "                        [225+15*15/60+59.52*0.25/60,-59.0,0.4],\n",
    "                        [225+16*15/60+02.00*0.25/60,-58.0,0.8],\n",
    "                        [225+16*15/60+03.61*0.25/60,-57.7,2.5],\n",
    "                        [225+16*15/60+04.81*0.25/60,-57.2,2.7],\n",
    "                        [225+16*15/60+06.54*0.25/60,-57.1,0.2],\n",
    "                        [225+16*15/60+07.75*0.25/60,-60.6,0.3],\n",
    "                        [225+16*15/60+08.51*0.25/60,-60.9,3.3],\n",
    "                        [225+16*15/60+19.83*0.25/60,-56.9,1.0],\n",
    "                        [225+16*15/60+23.11*0.25/60,-58.0,2.5],\n",
    "                        [225+16*15/60+34.71*0.25/60,-58.2,3.8],\n",
    "                        [225+16*15/60+08.66*0.25/60,-56.8,0.7],\n",
    "                        [225+16*15/60+09.58*0.25/60,-57.7,0.3],\n",
    "                        [225+15*15/60+52.84*0.25/60,-55.7,0.6],\n",
    "                        [225+15*15/60+56.21*0.25/60,-55.9,0.7],\n",
    "                        [225+16*15/60+05.26*0.25/60,-54.3,0.3],\n",
    "                        [225+17*15/60+09.99*0.25/60,-57.0,0.4],\n",
    "                        [225+17*15/60+34.55*0.25/60,-56.5,3.1],\n",
    "                        [225+17*15/60+58.32*0.25/60,-57.5,3.3],\n",
    "                        [225+18*15/60+04.96*0.25/60,-57.7,2.6],\n",
    "                        [225+18*15/60+18.92*0.25/60,-57.6,3.6],\n",
    "                        [225+18*15/60+35.89*0.25/60,-56.7,1.3],\n",
    "                        [225+19*15/60+21.42*0.25/60,-61.7,3.1],\n",
    "                        [225+21*15/60+51.16*0.25/60,-55.6,0.4],\n",
    "                        [225+24*15/60+04.85*0.25/60,-56.5,2.6],\n",
    "                        [225+24*15/60+13.00*0.25/60,-50.0,2.4],\n",
    "                        [225+28*15/60+39.20*0.25/60,-56.6,1.4],\n",
    "                        [225+28*15/60+49.34*0.25/60,-52.4,3.8],\n",
    "                        [225+34*15/60+19.31*0.25/60,-55.8,1.8],\n",
    "                        [225+34*15/60+31.90*0.25/60,-52.7,4.0],\n",
    "                        [225+34*15/60+56.51*0.25/60,-51.9,1.6],\n",
    "                        [225+45*15/60+10.57*0.25/60,-45.6,2.6],\n",
    "                        [225+46*15/60+49.44*0.25/60,-48.0,2.4],\n",
    "                        [225+48*15/60+57.99*0.25/60,-46.7,2.3],\n",
    "                        [225+55*15/60+24.13*0.25/60,-41.0,2.7],\n",
    "                        [240+0*15/60+45.41*0.25/60,-41.1,2.8],\n",
    "                        [240+1*15/60+12.59*0.25/60,-40.8,2.5],\n",
    "                        [240+3*15/60+29.59*0.25/60,-45.2,3.9],\n",
    "                        [240+4*15/60+05.53*0.25/60,-44.9,4.0],\n",
    "                        [240+4*15/60+33.28*0.25/60,-45.1,3.5],\n",
    "                        [240+13*15/60+40.97*0.25/60,-41.1,3.4],\n",
    "                        [240+16*15/60+44.79*0.25/60,-44.0,3.0],\n",
    "                        [240+16*15/60+51.73*0.25/60,-43.5,2.5],\n",
    "                        [225+8*15/60+07.15*0.25/60,-57.8,1.1],\n",
    "                        [225+8*15/60+17.50*0.25/60,-62.0,2.3],\n",
    "                        [225+10*15/60+39.02*0.25/60,-58.0,1.0],\n",
    "                        [225+11*15/60+09.04*0.25/60,-66.9,2.1],\n",
    "                        [225+11*15/60+21.70*0.25/60,-53.8,1.1],\n",
    "                        [225+12*15/60+45.44*0.25/60,-52.5,2.2],\n",
    "                        [225+13*15/60+40.44*0.25/60,-58.6,1.4],\n",
    "                        [225+13*15/60+54.40*0.25/60,-59.8,3.7],\n",
    "                        [225+14*15/60+09.32*0.25/60,-57.9,3.5],\n",
    "                        [225+14*15/60+17.18*0.25/60,-59.2,1.7],\n",
    "                        [225+14*15/60+20.71*0.25/60,-56.7,2.3],\n",
    "                        [225+14*15/60+34.63*0.25/60,-59.1,1.3],\n",
    "                        [225+15*15/60+16.47*0.25/60,-58.6,2.3],\n",
    "                        [225+15*15/60+50.43*0.25/60,-55.7,2.3],\n",
    "                        [225+16*15/60+01.54*0.25/60,-58.7,1.4],\n",
    "                        [225+16*15/60+34.95*0.25/60,-59.7,0.4],\n",
    "                        [225+16*15/60+56.20*0.25/60,-58.7,0.2]])"
   ]
  },
  {
   "cell_type": "code",
   "execution_count": 7,
   "metadata": {
    "collapsed": false
   },
   "outputs": [
    {
     "data": {
      "text/plain": [
       "<Container object of 3 artists>"
      ]
     },
     "execution_count": 7,
     "metadata": {},
     "output_type": "execute_result"
    },
    {
     "name": "stdout",
     "output_type": "stream",
     "text": [
      "/Users/bovy/anaconda/lib/python2.7/site-packages/matplotlib/collections.py:590: FutureWarning: elementwise comparison failed; returning scalar instead, but in the future will perform elementwise comparison\n",
      "  if self._edgecolors == str('face'):\n",
      "\n"
     ]
    },
    {
     "data": {
      "image/png": "[encoded data removed]",
      "text/plain": [
       "<matplotlib.figure.Figure at 0x11444ef50>"
      ]
     },
     "metadata": {},
     "output_type": "display_data"
    }
   ],
   "source": [
    "figsize(12,4)\n",
    "subplot(1,2,1)\n",
    "bovy_plot.bovy_plot(trackRADec_trailing[:,0],\n",
    "                    trackRADec_trailing[:,1],\n",
    "                    color=sns.color_palette()[0],\n",
    "                    xrange=[250.,220.],\n",
    "                    yrange=[-5.,9.],\n",
    "                    xlabel=r'$\\mathrm{RA}\\,(\\mathrm{degree})$',\n",
    "                    ylabel=r'$\\mathrm{Dec}\\,(\\mathrm{degree})$',\n",
    "                   gcf=True)\n",
    "bovy_plot.bovy_plot(trackRADec_leading[:,0],\n",
    "                    trackRADec_leading[:,1],\n",
    "                    color=sns.color_palette()[0],\n",
    "                    overplot=True)\n",
    "plot(radec_sample_trailing[:,0],radec_sample_trailing[:,1],'k.',\n",
    "     alpha=0.01,zorder=0)\n",
    "plot(radec_sample_leading[:,0],radec_sample_leading[:,1],'k.',\n",
    "     alpha=0.01,zorder=0)\n",
    "errorbar(pos_radec[:,0],pos_radec[:,1],yerr=pos_radec[:,2],\n",
    "        ls='none',marker='o',color=sns.color_palette()[2])\n",
    "subplot(1,2,2)\n",
    "bovy_plot.bovy_plot(trackRADec_trailing[:,0],\n",
    "                    sdf_trailing._interpolatedObsTrackLB[:,3],\n",
    "                    color=sns.color_palette()[0],\n",
    "                    xrange=[250.,220.],\n",
    "                    yrange=[-80.,0.],\n",
    "                    xlabel=r'$\\mathrm{RA}\\,(\\mathrm{degree})$',\n",
    "                    ylabel=r'$V_{\\mathrm{los}}\\,(\\mathrm{km\\,s}^{-1})$',\n",
    "                   gcf=True)\n",
    "bovy_plot.bovy_plot(trackRADec_leading[:,0],\n",
    "                    sdf_leading._interpolatedObsTrackLB[:,3],\n",
    "                    color=sns.color_palette()[0],\n",
    "                    overplot=True)\n",
    "plot(radec_sample_trailing[:,0],lb_sample_trailing[3],'k.',\n",
    "     alpha=0.01,zorder=0)\n",
    "plot(radec_sample_leading[:,0],lb_sample_leading[3],'k.',\n",
    "     alpha=0.01,zorder=0)\n",
    "errorbar(rvel_ra[:,0],rvel_ra[:,1],yerr=rvel_ra[:,2],\n",
    "        ls='none',marker='o',color=sns.color_palette()[2])"
   ]
  },
  {
   "cell_type": "code",
   "execution_count": 8,
   "metadata": {
    "collapsed": false
   },
   "outputs": [
    {
     "name": "stdout",
     "output_type": "stream",
     "text": [
      "Physical length: 14.886392 kpc (leading,trailing)=(8.323327,6.563065) kpc\n",
      "Angular length: 45.531331 deg (leading,trailing)=(25.719866,19.811466) deg\n"
     ]
    }
   ],
   "source": [
    "print \"Physical length: %f kpc (leading,trailing)=(%f,%f) kpc\" % \\\n",
    "    (sdf_leading.length(phys=True)+sdf_trailing.length(phys=True),\n",
    "     sdf_leading.length(phys=True),sdf_trailing.length(phys=True))\n",
    "print \"Angular length: %f deg (leading,trailing)=(%f,%f) deg\" % \\\n",
    "    (sdf_leading.length(ang=True)+sdf_trailing.length(ang=True),\n",
    "     sdf_leading.length(ang=True),sdf_trailing.length(ang=True))"
   ]
  },
  {
   "cell_type": "markdown",
   "metadata": {},
   "source": [
    "Also in $(\\xi,\\eta)$ coordinates"
   ]
  },
  {
   "cell_type": "code",
   "execution_count": 9,
   "metadata": {
    "collapsed": true
   },
   "outputs": [],
   "source": [
    "xieta_sample_trailing= pal5_util.radec_to_pal5xieta(radec_sample_trailing[:,0],\n",
    "                                                   radec_sample_trailing[:,1],\n",
    "                                                   degree=True)\n",
    "xieta_sample_leading= pal5_util.radec_to_pal5xieta(radec_sample_leading[:,0],\n",
    "                                                  radec_sample_leading[:,1],\n",
    "                                                  degree=True)\n",
    "trackxieta_trailing=\\\n",
    "  pal5_util.radec_to_pal5xieta(trackRADec_trailing[:,0],\n",
    "                    trackRADec_trailing[:,1],degree=True)\n",
    "trackxieta_leading=\\\n",
    "  pal5_util.radec_to_pal5xieta(trackRADec_leading[:,0],\n",
    "                    trackRADec_leading[:,1],degree=True)\n",
    "pos_xieta= pal5_util.radec_to_pal5xieta(pos_radec[:,0],pos_radec[:,1],\n",
    "                                        degree=True)"
   ]
  },
  {
   "cell_type": "code",
   "execution_count": 10,
   "metadata": {
    "collapsed": false
   },
   "outputs": [
    {
     "data": {
      "text/plain": [
       "[<matplotlib.lines.Line2D at 0x1141705d0>]"
      ]
     },
     "execution_count": 10,
     "metadata": {},
     "output_type": "execute_result"
    },
    {
     "data": {
      "image/png": "[encoded data removed]",
      "text/plain": [
       "<matplotlib.figure.Figure at 0x114410b50>"
      ]
     },
     "metadata": {},
     "output_type": "display_data"
    }
   ],
   "source": [
    "figsize(6,4)\n",
    "bovy_plot.bovy_plot(trackxieta_trailing[:,0],\n",
    "                    trackxieta_trailing[:,1],\n",
    "                    color=sns.color_palette()[0],\n",
    "                    xrange=[18.,-5.],\n",
    "                    yrange=[-7.,10.],\n",
    "                    xlabel=r'$\\xi\\,(\\mathrm{degree})$',\n",
    "                    ylabel=r'$\\eta\\,(\\mathrm{degree})$')\n",
    "bovy_plot.bovy_plot(trackxieta_leading[:,0],\n",
    "                    trackxieta_leading[:,1],\n",
    "                    color=sns.color_palette()[0],\n",
    "                    overplot=True)\n",
    "plot(xieta_sample_trailing[:,0],xieta_sample_trailing[:,1],'k.',\n",
    "     alpha=0.01,zorder=0)\n",
    "plot(xieta_sample_leading[:,0],xieta_sample_leading[:,1],'k.',\n",
    "     alpha=0.01,zorder=0)\n",
    "plot(pos_xieta[:,0],pos_xieta[:,1],\n",
    "        ls='none',marker='o',color=sns.color_palette()[2])"
   ]
  },
  {
   "cell_type": "markdown",
   "metadata": {},
   "source": [
    "Density in $(\\xi,\\eta)$ coordinates:"
   ]
  },
  {
   "cell_type": "code",
   "execution_count": 11,
   "metadata": {
    "collapsed": false
   },
   "outputs": [
    {
     "data": {
      "text/plain": [
       "<matplotlib.text.Text at 0x119056710>"
      ]
     },
     "execution_count": 11,
     "metadata": {},
     "output_type": "execute_result"
    },
    {
     "data": {
      "image/png": "[encoded data removed]",
      "text/plain": [
       "<matplotlib.figure.Figure at 0x114410b10>"
      ]
     },
     "metadata": {},
     "output_type": "display_data"
    }
   ],
   "source": [
    "dens_xi= numpy.array([sdf_trailing.density_par(x,coord='customra') for x in sdf_trailing._interpolatedThetasTrack])\n",
    "plot(trackxieta_trailing[:,0],\n",
    "     dens_xi/numpy.sum(dens_xi*(\n",
    "     numpy.roll(trackxieta_trailing[:,0],-1)-trackxieta_trailing[:,0])),lw=4.)\n",
    "dum= hist(xieta_sample_trailing[:,0],range=[-15.,18.],bins=31,normed=True,histtype='step',lw=4.,color='k')\n",
    "dens_xi= numpy.array([sdf_leading.density_par(x,coord='customra') for x in sdf_leading._interpolatedThetasTrack])\n",
    "plot(trackxieta_leading[:,0],\n",
    "     -dens_xi/numpy.sum(dens_xi*(\n",
    "     numpy.roll(trackxieta_leading[:,0],-1)-trackxieta_leading[:,0])),lw=4.)\n",
    "dum= hist(xieta_sample_leading[:,0],range=[-15.,18.],bins=31,normed=True,histtype='step',lw=4.,color='k')\n",
    "xlabel(r'$\\xi\\,(\\mathrm{deg})$')"
   ]
  },
  {
   "cell_type": "markdown",
   "metadata": {
    "collapsed": true
   },
   "source": [
    "## Number of subhalo encounters expected"
   ]
  },
  {
   "cell_type": "code",
   "execution_count": 12,
   "metadata": {
    "collapsed": true
   },
   "outputs": [],
   "source": [
    "def nsubhalo(m):\n",
    "    return 0.3*(10.**6.5/m)\n",
    "def bmax(m):\n",
    "    return 0.075*(m/10.**6.5)**0.5"
   ]
  },
  {
   "cell_type": "code",
   "execution_count": 13,
   "metadata": {
    "collapsed": false
   },
   "outputs": [],
   "source": [
    "ms= 10.**(numpy.linspace(4.,9.,201))\n",
    "def dNencdm(m):\n",
    "    return sdf_trailing.subhalo_encounters(sigma=120./220.,nsubhalo=nsubhalo(m),\n",
    "                                                      bmax=bmax(m))\\\n",
    "           +sdf_leading.subhalo_encounters(sigma=120./220.,nsubhalo=nsubhalo(m),\n",
    "                                                      bmax=bmax(m))\n",
    "dndm= numpy.array([dNencdm(m) for m in ms])"
   ]
  },
  {
   "cell_type": "code",
   "execution_count": 14,
   "metadata": {
    "collapsed": false
   },
   "outputs": [
    {
     "data": {
      "text/plain": [
       "<matplotlib.text.Text at 0x1144102d0>"
      ]
     },
     "execution_count": 14,
     "metadata": {},
     "output_type": "execute_result"
    },
    {
     "data": {
      "image/png": "[encoded data removed]",
      "text/plain": [
       "<matplotlib.figure.Figure at 0x1043bb650>"
      ]
     },
     "metadata": {},
     "output_type": "display_data"
    }
   ],
   "source": [
    "loglog(ms,dndm)\n",
    "xlabel(r'$M\\,(M_\\odot)$')\n",
    "ylabel(r'$\\mathrm{d} N_\\mathrm{enc} / \\mathrm{d} M\\,(M^{-1}_\\odot)$')"
   ]
  },
  {
   "cell_type": "code",
   "execution_count": 15,
   "metadata": {
    "collapsed": false
   },
   "outputs": [
    {
     "name": "stdout",
     "output_type": "stream",
     "text": [
      "Pal 5 should have 85.397544 encounters with subhalos more massive than 10^5 Msolar over its lifetime\n",
      "Pal 5 should have 26.819836 encounters with subhalos more massive than 10^6 Msolar over its lifetime\n",
      "Pal 5 should have 8.295938 encounters with subhalos more massive than 10^7 Msolar over its lifetime\n",
      "Pal 5 should have 2.438167 encounters with subhalos more massive than 10^8 Msolar over its lifetime\n"
     ]
    }
   ],
   "source": [
    "print \"Pal 5 should have %f encounters with subhalos more massive than 10^5 Msolar over its lifetime\" \\\n",
    "    % (dNencdm(10.**5.5)+dNencdm(10.**6.5)+dNencdm(10.**7.5)+dNencdm(10.**8.5)++dNencdm(10.**9.5))\n",
    "print \"Pal 5 should have %f encounters with subhalos more massive than 10^6 Msolar over its lifetime\" \\\n",
    "    % (dNencdm(10.**6.5)+dNencdm(10.**7.5)+dNencdm(10.**8.5)++dNencdm(10.**9.5))\n",
    "print \"Pal 5 should have %f encounters with subhalos more massive than 10^7 Msolar over its lifetime\" \\\n",
    "    % (dNencdm(10.**7.5)+dNencdm(10.**8.5)++dNencdm(10.**9.5))\n",
    "print \"Pal 5 should have %f encounters with subhalos more massive than 10^8 Msolar over its lifetime\" \\\n",
    "    % (dNencdm(10.**8.5)++dNencdm(10.**9.5))"
   ]
  },
  {
   "cell_type": "code",
   "execution_count": null,
   "metadata": {
    "collapsed": true
   },
   "outputs": [],
   "source": []
  }
 ],
 "metadata": {
  "kernelspec": {
   "display_name": "Python 2",
   "language": "python",
   "name": "python2"
  },
  "language_info": {
   "codemirror_mode": {
    "name": "ipython",
    "version": 2
   },
   "file_extension": ".py",
   "mimetype": "text/x-python",
   "name": "python",
   "nbconvert_exporter": "python",
   "pygments_lexer": "ipython2",
   "version": "2.7.10"
  }
 },
 "nbformat": 4,
 "nbformat_minor": 0
}
