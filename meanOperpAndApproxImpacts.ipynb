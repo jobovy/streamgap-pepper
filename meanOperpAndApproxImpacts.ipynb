{
 "cells": [
  {
   "cell_type": "code",
   "execution_count": 1,
   "metadata": {
    "collapsed": false
   },
   "outputs": [
    {
     "name": "stdout",
     "output_type": "stream",
     "text": [
      "/Users/bovy/anaconda/envs/py27/lib/python2.7/site-packages/matplotlib/__init__.py:872: UserWarning: axes.color_cycle is deprecated and replaced with axes.prop_cycle; please use the latter.\n",
      "  warnings.warn(self.msg_depr % (key, alt_key))\n",
      "\n",
      "Populating the interactive namespace from numpy and matplotlib\n"
     ]
    }
   ],
   "source": [
    "import os, os.path\n",
    "import pickle\n",
    "import time\n",
    "import numpy\n",
    "from scipy import interpolate\n",
    "from galpy.util import bovy_conversion, bovy_plot, save_pickles\n",
    "import gd1_util\n",
    "from gd1_util import R0, V0\n",
    "import seaborn as sns\n",
    "from matplotlib import cm, pyplot\n",
    "import simulate_streampepper\n",
    "import statsmodels.api as sm\n",
    "lowess = sm.nonparametric.lowess\n",
    "%pylab inline\n",
    "from matplotlib.ticker import NullFormatter, FuncFormatter\n",
    "save_figures= False"
   ]
  },
  {
   "cell_type": "markdown",
   "metadata": {},
   "source": [
    "# Figures for the section on approximately computing the stream structure"
   ]
  },
  {
   "cell_type": "code",
   "execution_count": 2,
   "metadata": {
    "collapsed": false
   },
   "outputs": [
    {
     "name": "stdout",
     "output_type": "stream",
     "text": [
      "galpyWarning: Using C implementation to integrate orbits\n"
     ]
    }
   ],
   "source": [
    "# Load the smooth and peppered stream\n",
    "sdf_smooth= gd1_util.setup_gd1model()\n",
    "pepperfilename= 'gd1pepper.pkl'\n",
    "if os.path.exists(pepperfilename):\n",
    "    with open(pepperfilename,'rb') as savefile:\n",
    "        sdf_pepper= pickle.load(savefile)\n",
    "else:\n",
    "    timpacts= simulate_streampepper.parse_times('256sampling')\n",
    "    sdf_pepper= gd1_util.setup_gd1model(timpact=timpacts,\n",
    "                                        hernquist=True)\n",
    "    save_pickles(pepperfilename,sdf_pepper)"
   ]
  },
  {
   "cell_type": "markdown",
   "metadata": {},
   "source": [
    "## Is the mean perpendicular frequency close to zero?"
   ]
  },
  {
   "cell_type": "code",
   "execution_count": 3,
   "metadata": {
    "collapsed": false
   },
   "outputs": [],
   "source": [
    "# Sampling functions\n",
    "massrange=[5.,9.]\n",
    "plummer= False\n",
    "Xrs= 5.\n",
    "nsubhalo= simulate_streampepper.nsubhalo\n",
    "rs= simulate_streampepper.rs\n",
    "dNencdm= simulate_streampepper.dNencdm\n",
    "sample_GM= lambda: (10.**((-0.5)*massrange[0])\\\n",
    "                                    +(10.**((-0.5)*massrange[1])\\\n",
    "                                          -10.**((-0.5)*massrange[0]))\\\n",
    "                                    *numpy.random.uniform())**(1./(-0.5))\\\n",
    "                                    /bovy_conversion.mass_in_msol(V0,R0)\n",
    "rate_range= numpy.arange(massrange[0]+0.5,massrange[1]+0.5,1)\n",
    "rate= numpy.sum([dNencdm(sdf_pepper,10.**r,Xrs=Xrs,\n",
    "                                plummer=plummer)\n",
    "                        for r in rate_range])\n",
    "sample_rs= lambda x: rs(x*bovy_conversion.mass_in_1010msol(V0,R0)*10.**10.,\n",
    "                            plummer=plummer)"
   ]
  },
  {
   "cell_type": "code",
   "execution_count": 4,
   "metadata": {
    "collapsed": false
   },
   "outputs": [],
   "source": [
    "numpy.random.seed(2)\n",
    "sdf_pepper.simulate(rate=rate,sample_GM=sample_GM,sample_rs=sample_rs,Xrs=Xrs)"
   ]
  },
  {
   "cell_type": "code",
   "execution_count": 5,
   "metadata": {
    "collapsed": false,
    "scrolled": false
   },
   "outputs": [],
   "source": [
    "n= 100000\n",
    "aa_mock_per= sdf_pepper.sample(n=n,returnaAdt=True)\n",
    "dO= numpy.dot(aa_mock_per[0].T-sdf_pepper._progenitor_Omega,\n",
    "              sdf_pepper._sigomatrixEig[1][:,sdf_pepper._sigomatrixEigsortIndx])\n",
    "dO[:,2]*= sdf_pepper._sigMeanSign\n",
    "da= numpy.dot(aa_mock_per[1].T-sdf_pepper._progenitor_angle,\n",
    "              sdf_pepper._sigomatrixEig[1][:,sdf_pepper._sigomatrixEigsortIndx])\n",
    "da[:,2]*= sdf_pepper._sigMeanSign\n",
    "apar= da[:,2]\n",
    "xs= numpy.linspace(0.,1.5,1001)\n",
    "mO_unp= numpy.array([sdf_smooth.meanOmega(x,oned=True) for x in xs])\n",
    "mOint= interpolate.InterpolatedUnivariateSpline(xs,mO_unp,k=3)"
   ]
  },
  {
   "cell_type": "code",
   "execution_count": 15,
   "metadata": {
    "collapsed": false
   },
   "outputs": [],
   "source": [
    "mOs= mOint(apar)\n",
    "frac= 0.02\n",
    "alpha=0.01\n",
    "linecolor='0.65'\n",
    "bovy_plot.bovy_print(axes_labelsize=18.,xtick_labelsize=14.,ytick_labelsize=14.)\n",
    "figsize(12,4)\n",
    "subplot(1,3,1)\n",
    "bovy_plot.bovy_plot(apar[::3],dO[::3,2]/mOs[::3]-1,'k.',alpha=alpha*2,gcf=True,\n",
    "                   rasterized=True)\n",
    "z= lowess(dO[:,2]/mOs-1,apar,frac=frac)\n",
    "plot(z[::100,0],z[::100,1],color=linecolor,lw=2.5)\n",
    "xlim(0.,1.5)\n",
    "ylim(-1.2,1.2)\n",
    "xlabel(r'$\\Delta\\theta_\\parallel$')\n",
    "bovy_plot.bovy_text(r'$\\Delta\\Omega_\\parallel/\\langle\\Delta\\Omega^0_\\parallel\\rangle-1$',top_left=True,\n",
    "                   size=18.)\n",
    "subplot(1,3,2)\n",
    "bovy_plot.bovy_plot(apar[::3],dO[::3,1]/mOs[::3],'k.',alpha=alpha*2,gcf=True,\n",
    "                   rasterized=True)\n",
    "z= lowess(dO[:,1]/mOs,apar,frac=frac)\n",
    "plot(z[::100,0],z[::100,1],color=linecolor,lw=2.5)\n",
    "xlim(0.,1.5)\n",
    "ylim(-0.05,0.05)\n",
    "xlabel(r'$\\Delta\\theta_\\parallel$')\n",
    "bovy_plot.bovy_text(r'$\\Delta\\Omega_{\\perp,1}/\\langle\\Delta\\Omega^0_\\parallel\\rangle$',top_left=True,\n",
    "                   size=18.)\n",
    "subplot(1,3,3)\n",
    "bovy_plot.bovy_plot(apar[::3],dO[::3,0]/mOs[::3],'k.',alpha=alpha,gcf=True,\n",
    "                   rasterized=True)\n",
    "z= lowess(dO[:,0]/mOs,apar,frac=frac)\n",
    "plot(z[::100,0],z[::100,1],color=linecolor,lw=2.5)\n",
    "xlim(0.,1.5)\n",
    "ylim(-0.05,0.05)\n",
    "xlabel(r'$\\Delta\\theta_\\parallel$')\n",
    "bovy_plot.bovy_text(r'$\\Delta\\Omega_{\\perp,2}/\\langle\\Delta\\Omega^0_\\parallel\\rangle$',top_left=True,\n",
    "                   size=18.)\n",
    "if save_figures:\n",
    "    tight_layout()\n",
    "    bovy_plot.bovy_end_print(os.path.join(os.getenv('PAPERSDIR'),'2016-stream-stats','gd1like_meanOparOperp.pdf'))"
   ]
  },
  {
   "cell_type": "code",
   "execution_count": 17,
   "metadata": {
    "collapsed": false
   },
   "outputs": [
    {
     "name": "stdout",
     "output_type": "stream",
     "text": [
      "This stream had 61 impacts\n"
     ]
    }
   ],
   "source": [
    "print \"This stream had %i impacts\" % len(sdf_pepper._GM)"
   ]
  },
  {
   "cell_type": "markdown",
   "metadata": {},
   "source": [
    "## Test the single-impact approximations"
   ]
  },
  {
   "cell_type": "code",
   "execution_count": 71,
   "metadata": {
    "collapsed": false
   },
   "outputs": [],
   "source": [
    "# Setup a single, large impact\n",
    "m= 10.**8.\n",
    "GM= 10**8./bovy_conversion.mass_in_msol(V0,R0)\n",
    "timpactIndx= numpy.argmin(numpy.fabs(numpy.array(sdf_pepper._uniq_timpact)-1.3/bovy_conversion.time_in_Gyr(V0,R0)))\n",
    "# Load the single-impact stream\n",
    "gapfilename= 'gd1single.pkl'\n",
    "if os.path.exists(gapfilename):\n",
    "    with open(gapfilename,'rb') as savefile:\n",
    "        sdf_gap= pickle.load(savefile)\n",
    "else:\n",
    "    sdf_gap= gd1_util.setup_gd1model(hernquist=True,\n",
    "                                     singleImpact=True,\n",
    "                                     impactb=0.5*rs(m),\n",
    "                                     subhalovel=numpy.array([-25.,155.,30.])/V0,\n",
    "                                     impact_angle=0.6,\n",
    "                                     timpact=sdf_pepper._uniq_timpact[timpactIndx],\n",
    "                                     GM=GM,rs=rs(m))\n",
    "    save_pickles(gapfilename,sdf_gap)"
   ]
  },
  {
   "cell_type": "code",
   "execution_count": 5,
   "metadata": {
    "collapsed": true
   },
   "outputs": [],
   "source": [
    "n= 100000\n",
    "aa_mock_per= sdf_gap.sample(n=n,returnaAdt=True)\n",
    "dO= numpy.dot(aa_mock_per[0].T-sdf_gap._progenitor_Omega,\n",
    "              sdf_gap._sigomatrixEig[1][:,sdf_gap._sigomatrixEigsortIndx])\n",
    "dO[:,2]*= sdf_gap._sigMeanSign\n",
    "da= numpy.dot(aa_mock_per[1].T-sdf_gap._progenitor_angle,\n",
    "              sdf_gap._sigomatrixEig[1][:,sdf_gap._sigomatrixEigsortIndx])\n",
    "da[:,2]*= sdf_gap._sigMeanSign"
   ]
  },
  {
   "cell_type": "code",
   "execution_count": 6,
   "metadata": {
    "collapsed": false
   },
   "outputs": [
    {
     "name": "stdout",
     "output_type": "stream",
     "text": [
      "/Users/bovy/anaconda/envs/py27/lib/python2.7/site-packages/scipy/integrate/quadpack.py:352: IntegrationWarning: The maximum number of subdivisions (50) has been achieved.\n",
      "  If increasing the limit yields no improvement it is advised to analyze \n",
      "  the integrand in order to determine the difficulties.  If the position of a \n",
      "  local difficulty can be determined (singularity, discontinuity) one will \n",
      "  probably gain from splitting up the interval and calling the integrator \n",
      "  on the subranges.  Perhaps a special-purpose integrator should be used.\n",
      "  warnings.warn(msg, IntegrationWarning)\n",
      "\n",
      "/Users/bovy/anaconda/envs/py27/lib/python2.7/site-packages/scipy/integrate/quadpack.py:352: IntegrationWarning: The algorithm does not converge.  Roundoff error is detected\n",
      "  in the extrapolation table.  It is assumed that the requested tolerance\n",
      "  cannot be achieved, and that the returned result (if full_output = 1) is \n",
      "  the best which can be obtained.\n",
      "  warnings.warn(msg, IntegrationWarning)\n",
      "\n"
     ]
    }
   ],
   "source": [
    "num= True\n",
    "apar= numpy.arange(0.,sdf_smooth.length()+0.003,0.003)\n",
    "dens_unp= numpy.array([sdf_smooth._density_par(x) for x in apar])\n",
    "dens_approx= numpy.array([sdf_gap.density_par(x,approx=True) for x in apar])\n",
    "dens_approx_higherorder= numpy.array([sdf_gap._density_par(x,approx=True,higherorder=True) for x in apar])\n",
    "# normalize\n",
    "dens_unp= dens_unp/numpy.sum(dens_unp)/(apar[1]-apar[0])\n",
    "dens_approx= dens_approx/numpy.sum(dens_approx)/(apar[1]-apar[0])\n",
    "dens_approx_higherorder= dens_approx_higherorder/numpy.sum(dens_approx_higherorder)/(apar[1]-apar[0])\n",
    "if num:\n",
    "    dens_num= numpy.array([sdf_gap.density_par(x,approx=False) for x in apar])\n",
    "    dens_num= dens_num/numpy.sum(dens_num)/(apar[1]-apar[0])"
   ]
  },
  {
   "cell_type": "code",
   "execution_count": 12,
   "metadata": {
    "collapsed": false,
    "scrolled": false
   },
   "outputs": [],
   "source": [
    "bovy_plot.bovy_print(axes_labelsize=18.,xtick_labelsize=14.,ytick_labelsize=14.)\n",
    "figsize(6,7)\n",
    "axTop= pyplot.axes([0.15,0.3,0.825,0.65])\n",
    "fig= pyplot.gcf()\n",
    "fig.sca(axTop)\n",
    "bovy_plot.bovy_plot(apar,dens_approx,lw=2.5,gcf=True,\n",
    "                    color='k',\n",
    "                   xrange=[0.,1.],\n",
    "                   yrange=[0.,2.24],\n",
    "                   ylabel=r'$\\mathrm{density}$')\n",
    "plot(apar,dens_unp,lw=3.5,color='k',ls='--',zorder=0)\n",
    "nullfmt   = NullFormatter()         # no labels\n",
    "axTop.xaxis.set_major_formatter(nullfmt)\n",
    "dum= hist(da[:,2],bins=101,normed=True,range=[apar[0],apar[-1]],\n",
    "          histtype='step',color='0.55',zorder=0,lw=3.)\n",
    "axBottom= pyplot.axes([0.15,0.1,0.825,0.2])\n",
    "fig= pyplot.gcf()\n",
    "fig.sca(axBottom)\n",
    "bovy_plot.bovy_plot(apar,100.*(dens_approx_higherorder-dens_approx)/dens_approx_higherorder,\n",
    "                    lw=2.5,gcf=True,color='k',\n",
    "                    xrange=[0.,1.],\n",
    "                    yrange=[-0.145,0.145],\n",
    "                    zorder=2,\n",
    "                    xlabel=r'$\\Delta \\theta_\\parallel$',\n",
    "                    ylabel=r'$\\mathrm{relative\\ difference\\ in}\\ \\%$')\n",
    "if num:\n",
    "    plot(apar,100.*(dens_num-dens_approx_higherorder)/dens_approx_higherorder,\n",
    "         lw=2.5,zorder=1,color='0.55')\n",
    "# label\n",
    "aparIndx= numpy.argmin(numpy.fabs(apar-0.64))\n",
    "plot([0.45,apar[aparIndx]],[0.06,(100.*(dens_approx_higherorder-dens_approx)/dens_approx_higherorder)[aparIndx]],\n",
    "    'k',lw=1.)\n",
    "bovy_plot.bovy_text(0.1,0.07,r'$\\mathrm{higher\\!\\!-\\!\\!order\\ minus\\ linear}$',size=17.)\n",
    "if num:\n",
    "    aparIndx= numpy.argmin(numpy.fabs(apar-0.62))\n",
    "    plot([0.45,apar[aparIndx]],[-0.07,(100.*(dens_num-dens_approx_higherorder)/dens_approx_higherorder)[aparIndx]],\n",
    "        'k',lw=1.)\n",
    "    bovy_plot.bovy_text(0.05,-0.12,r'$\\mathrm{numerical\\ minus\\ higher\\!\\!-\\!\\!order}$',size=17.)\n",
    "if save_figures:\n",
    "    bovy_plot.bovy_end_print(os.path.join(os.getenv('PAPERSDIR'),'2016-stream-stats','gd1likeSingle_densapprox.pdf'))"
   ]
  },
  {
   "cell_type": "code",
   "execution_count": 8,
   "metadata": {
    "collapsed": false
   },
   "outputs": [],
   "source": [
    "mO_unp= numpy.array([sdf_smooth.meanOmega(x,oned=True) for x in apar])\\\n",
    "    *bovy_conversion.freq_in_Gyr(V0,R0)\n",
    "mO_approx= numpy.array([sdf_gap.meanOmega(x,approx=True,oned=True) for x in apar])\\\n",
    "    *bovy_conversion.freq_in_Gyr(V0,R0)\n",
    "mO_approx_higherorder= numpy.array([sdf_gap.meanOmega(x,oned=True,approx=True,higherorder=True) for x in apar])\\\n",
    "    *bovy_conversion.freq_in_Gyr(V0,R0)\n",
    "if num:\n",
    "    mO_num= numpy.array([sdf_gap.meanOmega(x,approx=False,oned=True) for x in apar])\\\n",
    "       *bovy_conversion.freq_in_Gyr(V0,R0)"
   ]
  },
  {
   "cell_type": "code",
   "execution_count": 13,
   "metadata": {
    "collapsed": false
   },
   "outputs": [],
   "source": [
    "frac= 0.005\n",
    "alpha=0.01\n",
    "linecolor='0.65'\n",
    "bovy_plot.bovy_print(axes_labelsize=18.,xtick_labelsize=14.,ytick_labelsize=14.)\n",
    "figsize(6,7)\n",
    "axTop= pyplot.axes([0.15,0.3,0.825,0.65])\n",
    "fig= pyplot.gcf()\n",
    "fig.sca(axTop)\n",
    "bovy_plot.bovy_plot(apar,mO_approx,lw=2.5,gcf=True,\n",
    "                    color='k',\n",
    "                   xrange=[0.,1.],\n",
    "                   yrange=[0.,0.2],\n",
    "                   ylabel=r'$\\Delta \\Omega_\\parallel\\,(\\mathrm{Gyr}^{-1})$')\n",
    "plot(apar,mO_unp,lw=2.5,color='k',ls='--')\n",
    "plot(da[::3,2],dO[::3,2]*bovy_conversion.freq_in_Gyr(V0,R0),\n",
    "     'k.',alpha=alpha*2,rasterized=True)\n",
    "nullfmt   = NullFormatter()         # no labels\n",
    "axTop.xaxis.set_major_formatter(nullfmt)\n",
    "axBottom= pyplot.axes([0.15,0.1,0.825,0.2])\n",
    "fig= pyplot.gcf()\n",
    "fig.sca(axBottom)\n",
    "bovy_plot.bovy_plot(apar,100.*(mO_approx_higherorder-mO_approx)/mO_approx_higherorder,\n",
    "                    lw=2.5,gcf=True,color='k',\n",
    "                    xrange=[0.,1.],zorder=1,\n",
    "                    yrange=[-0.039,0.039],\n",
    "                    xlabel=r'$\\Delta \\theta_\\parallel$',\n",
    "                    ylabel=r'$\\mathrm{relative\\ difference\\ in\\ \\%}$')\n",
    "if num:\n",
    "    plot(apar,100.*(mO_num-mO_approx_higherorder)/mO_approx_higherorder,\n",
    "         lw=2.5,color='0.55',zorder=0)\n",
    "# label\n",
    "aparIndx= numpy.argmin(numpy.fabs(apar-0.64))\n",
    "plot([0.45,apar[aparIndx]],[0.024,(100.*(mO_approx_higherorder-mO_approx)/mO_approx_higherorder)[aparIndx]],\n",
    "    'k',lw=1.)\n",
    "bovy_plot.bovy_text(0.1,0.026,r'$\\mathrm{higher\\!\\!-\\!\\!order\\ minus\\ linear}$',size=17.)\n",
    "aparIndx= numpy.argmin(numpy.fabs(apar-0.6))\n",
    "if num:\n",
    "    plot([0.45,apar[aparIndx]],[-0.02,(100.*(mO_num-mO_approx_higherorder)/mO_approx_higherorder)[aparIndx]],\n",
    "        'k',lw=1.)\n",
    "    bovy_plot.bovy_text(0.05,-0.03,r'$\\mathrm{numerical\\ minus\\ higher\\!\\!-\\!\\!order}$',size=17.)\n",
    "if save_figures:\n",
    "    bovy_plot.bovy_end_print(os.path.join(os.getenv('PAPERSDIR'),'2016-stream-stats','gd1likeSingle_mOparapprox.pdf'))"
   ]
  },
  {
   "cell_type": "code",
   "execution_count": 74,
   "metadata": {
    "collapsed": false
   },
   "outputs": [
    {
     "name": "stdout",
     "output_type": "stream",
     "text": [
      "115.793423219\n",
      "0.0852093552098\n",
      "0.672427090732\n"
     ]
    }
   ],
   "source": [
    "start= time.time()\n",
    "numpy.array([sdf_gap.density_par(x,approx=False) for x in apar[::10]])\n",
    "end= time.time()\n",
    "print (end-start)*1000.*10./len(apar)\n",
    "start= time.time()\n",
    "numpy.array([sdf_gap.density_par(x,approx=True) for x in apar[::10]])\n",
    "end= time.time()\n",
    "print (end-start)*1000.*10./len(apar)\n",
    "start= time.time()\n",
    "numpy.array([sdf_gap.density_par(x,approx=True,higherorder=True) for x in apar[::10]])\n",
    "end= time.time()\n",
    "print (end-start)*1000.*10./len(apar)"
   ]
  },
  {
   "cell_type": "code",
   "execution_count": 75,
   "metadata": {
    "collapsed": false
   },
   "outputs": [
    {
     "name": "stdout",
     "output_type": "stream",
     "text": [
      "178.332213199\n",
      "0.24033315254\n",
      "2.04815286579\n"
     ]
    }
   ],
   "source": [
    "start= time.time()\n",
    "numpy.array([sdf_gap.meanOmega(x,approx=False,oned=True) for x in apar[::10]])\n",
    "end= time.time()\n",
    "print (end-start)*1000.*10./len(apar)\n",
    "start= time.time()\n",
    "numpy.array([sdf_gap.meanOmega(x,approx=True,oned=True) for x in apar[::10]])\n",
    "end= time.time()\n",
    "print (end-start)*1000.*10./len(apar)\n",
    "start= time.time()\n",
    "numpy.array([sdf_gap.meanOmega(x,approx=True,oned=True,higherorder=True) for x in apar[::10]])\n",
    "end= time.time()\n",
    "print (end-start)*1000.*10./len(apar)"
   ]
  },
  {
   "cell_type": "markdown",
   "metadata": {},
   "source": [
    "## Test the multiple-impact approximations"
   ]
  },
  {
   "cell_type": "code",
   "execution_count": 21,
   "metadata": {
    "collapsed": false
   },
   "outputs": [],
   "source": [
    "# Setup a four, intermediate impacts\n",
    "m= [10.**7.,10.**7.25,10.**6.75,10.**7.5]\n",
    "GM= [mm/bovy_conversion.mass_in_msol(V0,R0) for mm in m]\n",
    "timpactIndx= [numpy.argmin(numpy.fabs(numpy.array(sdf_pepper._uniq_timpact)-1.3/bovy_conversion.time_in_Gyr(V0,R0))),\n",
    "              numpy.argmin(numpy.fabs(numpy.array(sdf_pepper._uniq_timpact)-2.3/bovy_conversion.time_in_Gyr(V0,R0))),\n",
    "              numpy.argmin(numpy.fabs(numpy.array(sdf_pepper._uniq_timpact)-3.3/bovy_conversion.time_in_Gyr(V0,R0))),\n",
    "              numpy.argmin(numpy.fabs(numpy.array(sdf_pepper._uniq_timpact)-4.3/bovy_conversion.time_in_Gyr(V0,R0)))]\n",
    "sdf_pepper.set_impacts(impactb=[0.5*rs(m[0]),2.*rs(m[1]),1.*rs(m[2]),2.5*rs(m[3])],\n",
    "                       subhalovel=numpy.array([[-25.,155.,30.],\n",
    "                                               [125.,35.,80.],\n",
    "                                               [-225.,5.,-40.],\n",
    "                                               [25.,-155.,37.]])/V0,\n",
    "                       impact_angle=[0.6,0.4,0.3,0.3],\n",
    "                       timpact=[sdf_pepper._uniq_timpact[ti] for ti in timpactIndx],\n",
    "                       GM=GM,rs=[rs(mm) for mm in m])\n",
    "sdf_gap= sdf_pepper"
   ]
  },
  {
   "cell_type": "code",
   "execution_count": 22,
   "metadata": {
    "collapsed": false
   },
   "outputs": [],
   "source": [
    "n= 100000\n",
    "aa_mock_per= sdf_pepper.sample(n=n,returnaAdt=True)\n",
    "dO= numpy.dot(aa_mock_per[0].T-sdf_gap._progenitor_Omega,\n",
    "              sdf_gap._sigomatrixEig[1][:,sdf_gap._sigomatrixEigsortIndx])\n",
    "dO[:,2]*= sdf_gap._sigMeanSign\n",
    "da= numpy.dot(aa_mock_per[1].T-sdf_gap._progenitor_angle,\n",
    "              sdf_gap._sigomatrixEig[1][:,sdf_gap._sigomatrixEigsortIndx])\n",
    "da[:,2]*= sdf_gap._sigMeanSign"
   ]
  },
  {
   "cell_type": "code",
   "execution_count": 29,
   "metadata": {
    "collapsed": false
   },
   "outputs": [
    {
     "name": "stdout",
     "output_type": "stream",
     "text": [
      "/Users/bovy/anaconda/envs/py27/lib/python2.7/site-packages/scipy/integrate/quadpack.py:352: IntegrationWarning: The maximum number of subdivisions (100) has been achieved.\n",
      "  If increasing the limit yields no improvement it is advised to analyze \n",
      "  the integrand in order to determine the difficulties.  If the position of a \n",
      "  local difficulty can be determined (singularity, discontinuity) one will \n",
      "  probably gain from splitting up the interval and calling the integrator \n",
      "  on the subranges.  Perhaps a special-purpose integrator should be used.\n",
      "  warnings.warn(msg, IntegrationWarning)\n",
      "\n",
      "/Users/bovy/anaconda/envs/py27/lib/python2.7/site-packages/scipy/integrate/quadpack.py:352: IntegrationWarning: The occurrence of roundoff error is detected, which prevents \n",
      "  the requested tolerance from being achieved.  The error may be \n",
      "  underestimated.\n",
      "  warnings.warn(msg, IntegrationWarning)\n",
      "\n"
     ]
    }
   ],
   "source": [
    "num= True\n",
    "apar= numpy.arange(0.,sdf_smooth.length()+0.003,0.003)\n",
    "dens_unp= numpy.array([sdf_smooth._density_par(x) for x in apar])\n",
    "dens_approx= numpy.array([sdf_gap.density_par(x,approx=True) for x in apar])\n",
    "# normalize\n",
    "dens_unp= dens_unp/numpy.sum(dens_unp)/(apar[1]-apar[0])\n",
    "dens_approx= dens_approx/numpy.sum(dens_approx)/(apar[1]-apar[0])\n",
    "if num:\n",
    "    dens_num= numpy.array([sdf_gap.density_par(x,approx=False) for x in apar])\n",
    "    dens_num= dens_num/numpy.sum(dens_num)/(apar[1]-apar[0])"
   ]
  },
  {
   "cell_type": "code",
   "execution_count": 57,
   "metadata": {
    "collapsed": false,
    "scrolled": false
   },
   "outputs": [],
   "source": [
    "bovy_plot.bovy_print(axes_labelsize=18.,xtick_labelsize=14.,ytick_labelsize=14.)\n",
    "figsize(6,7)\n",
    "axTop= pyplot.axes([0.15,0.3,0.825,0.65])\n",
    "fig= pyplot.gcf()\n",
    "fig.sca(axTop)\n",
    "bovy_plot.bovy_plot(apar,dens_approx,lw=2.5,gcf=True,\n",
    "                    color='k',\n",
    "                   xrange=[0.,1.],\n",
    "                   yrange=[0.,2.24],\n",
    "                   ylabel=r'$\\mathrm{density}$')\n",
    "plot(apar,dens_unp,lw=3.5,color='k',ls='--',zorder=0)\n",
    "nullfmt   = NullFormatter()         # no labels\n",
    "axTop.xaxis.set_major_formatter(nullfmt)\n",
    "dum= hist(da[:,2],bins=101,normed=True,range=[apar[0],apar[-1]],\n",
    "          histtype='step',color='0.55',zorder=0,lw=3.)\n",
    "axBottom= pyplot.axes([0.15,0.1,0.825,0.2])\n",
    "fig= pyplot.gcf()\n",
    "fig.sca(axBottom)\n",
    "if num:\n",
    "    bovy_plot.bovy_plot(apar,100.*(dens_num-dens_approx)/dens_approx,\n",
    "                        lw=2.5,gcf=True,color='k',\n",
    "                        xrange=[0.,1.],\n",
    "                        yrange=[-1.45,1.45],\n",
    "                        zorder=2,\n",
    "                        xlabel=r'$\\Delta \\theta_\\parallel$',\n",
    "                        ylabel=r'$\\mathrm{relative\\ difference\\ in}\\ \\%$')\n",
    "# label\n",
    "if num:\n",
    "    aparIndx= numpy.argmin(numpy.fabs(apar-0.6))\n",
    "    plot([0.45,apar[aparIndx]],[0.7,(100.*(dens_num-dens_approx)/dens_approx)[aparIndx]],\n",
    "        'k',lw=1.)\n",
    "    bovy_plot.bovy_text(0.15,0.4,r'$\\mathrm{numerical\\ minus}$'+'\\n'+r'$\\mathrm{approximation}$',size=17.)\n",
    "if save_figures:\n",
    "    bovy_plot.bovy_end_print(os.path.join(os.getenv('PAPERSDIR'),'2016-stream-stats','gd1likeMulti_densapprox.pdf'))"
   ]
  },
  {
   "cell_type": "code",
   "execution_count": 45,
   "metadata": {
    "collapsed": false
   },
   "outputs": [],
   "source": [
    "mO_unp= numpy.array([sdf_smooth.meanOmega(x,oned=True) for x in apar])\\\n",
    "    *bovy_conversion.freq_in_Gyr(V0,R0)\n",
    "mO_approx= numpy.array([sdf_gap.meanOmega(x,approx=True,oned=True) for x in apar])\\\n",
    "    *bovy_conversion.freq_in_Gyr(V0,R0)\n",
    "if num:\n",
    "    mO_num= numpy.array([sdf_gap.meanOmega(x,approx=False,oned=True) for x in apar])\\\n",
    "       *bovy_conversion.freq_in_Gyr(V0,R0)"
   ]
  },
  {
   "cell_type": "code",
   "execution_count": 58,
   "metadata": {
    "collapsed": false
   },
   "outputs": [],
   "source": [
    "frac= 0.005\n",
    "alpha=0.01\n",
    "linecolor='0.65'\n",
    "bovy_plot.bovy_print(axes_labelsize=18.,xtick_labelsize=14.,ytick_labelsize=14.)\n",
    "figsize(6,7)\n",
    "axTop= pyplot.axes([0.15,0.3,0.825,0.65])\n",
    "fig= pyplot.gcf()\n",
    "fig.sca(axTop)\n",
    "bovy_plot.bovy_plot(apar,mO_approx,lw=2.5,gcf=True,\n",
    "                    color='k',\n",
    "                   xrange=[0.,1.],\n",
    "                   yrange=[0.,0.2],\n",
    "                   ylabel=r'$\\Delta \\Omega_\\parallel\\,(\\mathrm{Gyr}^{-1})$')\n",
    "plot(apar,mO_unp,lw=2.5,color='k',ls='--')\n",
    "plot(da[::3,2],dO[::3,2]*bovy_conversion.freq_in_Gyr(V0,R0),\n",
    "     'k.',alpha=alpha*2,rasterized=True)\n",
    "nullfmt   = NullFormatter()         # no labels\n",
    "axTop.xaxis.set_major_formatter(nullfmt)\n",
    "axBottom= pyplot.axes([0.15,0.1,0.825,0.2])\n",
    "fig= pyplot.gcf()\n",
    "fig.sca(axBottom)\n",
    "if num:\n",
    "    bovy_plot.bovy_plot(apar,100.*(mO_num-mO_approx)/mO_approx,\n",
    "                        lw=2.5,gcf=True,color='k',\n",
    "                        xrange=[0.,1.],zorder=1,\n",
    "                        yrange=[-0.39,0.39],\n",
    "                        xlabel=r'$\\Delta \\theta_\\parallel$',\n",
    "                        ylabel=r'$\\mathrm{relative\\ difference\\ in\\ \\%}$')\n",
    "# label\n",
    "if num:\n",
    "    aparIndx= numpy.argmin(numpy.fabs(apar-0.6))\n",
    "    plot([0.35,apar[aparIndx]],[0.2,(100.*(mO_num-mO_approx)/mO_approx)[aparIndx]],\n",
    "        'k',lw=1.)\n",
    "    bovy_plot.bovy_text(0.05,0.1,r'$\\mathrm{numerical\\ minus}$'+'\\n'+r'$\\mathrm{approximation}$',size=17.)\n",
    "if save_figures:\n",
    "    bovy_plot.bovy_end_print(os.path.join(os.getenv('PAPERSDIR'),'2016-stream-stats','gd1likeMulti_mOparapprox.pdf'))"
   ]
  },
  {
   "cell_type": "code",
   "execution_count": 69,
   "metadata": {
    "collapsed": false
   },
   "outputs": [
    {
     "name": "stdout",
     "output_type": "stream",
     "text": [
      "874.121788776\n",
      "8.52133288528\n"
     ]
    }
   ],
   "source": [
    "start= time.time()\n",
    "numpy.array([sdf_gap.density_par(x,approx=False) for x in apar[::10]])\n",
    "end= time.time()\n",
    "print (end-start)*1000.*10./len(apar)\n",
    "start= time.time()\n",
    "numpy.array([sdf_gap.density_par(x,approx=True) for x in apar[::10]])\n",
    "end= time.time()\n",
    "print (end-start)*1000.*10./len(apar)"
   ]
  },
  {
   "cell_type": "code",
   "execution_count": 70,
   "metadata": {
    "collapsed": false
   },
   "outputs": [
    {
     "name": "stdout",
     "output_type": "stream",
     "text": [
      "1875.79709111\n",
      "8.71008815187\n"
     ]
    }
   ],
   "source": [
    "start= time.time()\n",
    "numpy.array([sdf_gap.meanOmega(x,approx=False,oned=True) for x in apar[::10]])\n",
    "end= time.time()\n",
    "print (end-start)*1000.*10./len(apar)\n",
    "start= time.time()\n",
    "numpy.array([sdf_gap.meanOmega(x,approx=True,oned=True) for x in apar[::10]])\n",
    "end= time.time()\n",
    "print (end-start)*1000.*10./len(apar)"
   ]
  },
  {
   "cell_type": "markdown",
   "metadata": {},
   "source": [
    "## Computational speed"
   ]
  },
  {
   "cell_type": "code",
   "execution_count": 145,
   "metadata": {
    "collapsed": false
   },
   "outputs": [
    {
     "name": "stdout",
     "output_type": "stream",
     "text": [
      "2\n",
      "2\n",
      "2\n",
      "4\n",
      "4\n",
      "4\n",
      "8\n",
      "8\n",
      "8\n",
      "16\n",
      "16\n",
      "16\n",
      "32\n",
      "32\n",
      "32\n",
      "64\n",
      "64\n",
      "64\n",
      "128\n",
      "128\n",
      "128\n",
      "256\n",
      "256\n",
      "256\n"
     ]
    }
   ],
   "source": [
    "nimp= 2**numpy.arange(1,9)\n",
    "ntrials= 3\n",
    "nsample= [10,10,10,10,10,10,33,33,33]\n",
    "compt= numpy.zeros(len(nimp))\n",
    "for ii,ni in enumerate(nimp):\n",
    "    tcompt= 0.\n",
    "    for t in range(ntrials):\n",
    "        nimpact=ni\n",
    "        timpacts= numpy.random.permutation(numpy.array(sdf_pepper._uniq_timpact))[:ni]\n",
    "        print len(timpacts)\n",
    "        impact_angles= numpy.array([\\\n",
    "                sdf_pepper._icdf_stream_len[ti](numpy.random.uniform())\n",
    "                for ti in timpacts])\n",
    "        GMs= numpy.array([sample_GM() for a in impact_angles])\n",
    "        rss= numpy.array([sample_rs(gm) for gm in GMs])\n",
    "        impactbs= numpy.random.uniform(size=len(impact_angles))*Xrs*rss\n",
    "        subhalovels= numpy.empty((len(impact_angles),3))\n",
    "        for jj in range(len(timpacts)):\n",
    "            subhalovels[jj]=\\\n",
    "                sdf_pepper._draw_impact_velocities(timpacts[jj],120./V0,\n",
    "                                                   impact_angles[jj],n=1)[0]\n",
    "        # Flip angle sign if necessary\n",
    "        if not sdf_pepper._gap_leading: impact_angles*= -1.\n",
    "        # Setup\n",
    "        sdf_pepper.set_impacts(impact_angle=impact_angles,\n",
    "                               impactb=impactbs,\n",
    "                               subhalovel=subhalovels,\n",
    "                               timpact=timpacts,\n",
    "                               GM=GMs,rs=rss)\n",
    "        start= time.time()\n",
    "        numpy.array([sdf_pepper.density_par(x,approx=True) for x in apar[::nsample[ii]]])\n",
    "        end= time.time()\n",
    "        tcompt+= (end-start)*1000.*nsample[ii]/len(apar)\n",
    "    compt[ii]= tcompt/ntrials"
   ]
  },
  {
   "cell_type": "code",
   "execution_count": 146,
   "metadata": {
    "collapsed": false
   },
   "outputs": [],
   "source": [
    "bovy_plot.bovy_print(axes_labelsize=18.,xtick_labelsize=14.,ytick_labelsize=14.)\n",
    "figsize(6,4)\n",
    "bovy_plot.bovy_plot(numpy.log2(nimp),compt,'ko',\n",
    "                    semilogy=True,\n",
    "                    xrange=[0.,9.],\n",
    "                    yrange=[.5,100000.],\n",
    "                    ylabel=r'$\\mathrm{time}\\,(\\mathrm{ms})$',\n",
    "                    xlabel=r'$\\mathrm{number\\ of\\ impacts}$')\n",
    "p= numpy.polyfit(numpy.log10(nimp),numpy.log10(compt),deg=1)\n",
    "bovy_plot.bovy_plot(numpy.log2(nimp),10.**(p[0]*numpy.log10(nimp)+p[1]),\n",
    "                    '-',lw=2.,\n",
    "                    color=(0.0, 0.4470588235294118, 0.6980392156862745),\n",
    "                    overplot=True)\n",
    "pyplot.text(0.3,0.075,\n",
    "                r'$\\log_{10}\\ \\mathrm{time/ms} = %.2f \\,\\log_{10} N %.2f$' % (p[0],p[1]),\n",
    "                transform=pyplot.gca().transAxes,size=14.)\n",
    "# Use 100, 1000 instead of 10^2, 10^3\n",
    "gca().yaxis.set_major_formatter(ScalarFormatter())\n",
    "def twoto(x,pos):\n",
    "    return r'$%i$' % (2**x)\n",
    "formatter = FuncFormatter(twoto)\n",
    "gca().xaxis.set_major_formatter(formatter)\n",
    "gcf().subplots_adjust(left=0.175,bottom=0.15,right=0.95,top=0.95)\n",
    "if save_figures:\n",
    "    bovy_plot.bovy_end_print(os.path.join(os.getenv('PAPERSDIR'),'2016-stream-stats','gd1likeMulti_compTime.pdf'))"
   ]
  },
  {
   "cell_type": "markdown",
   "metadata": {
    "collapsed": true
   },
   "source": [
    "## Example densities and tracks"
   ]
  },
  {
   "cell_type": "markdown",
   "metadata": {},
   "source": [
    "### Single masses"
   ]
  },
  {
   "cell_type": "code",
   "execution_count": 87,
   "metadata": {
    "collapsed": true
   },
   "outputs": [],
   "source": [
    "# Load our fiducial simulation's output, for apars and smooth stream\n",
    "data= numpy.genfromtxt(os.path.join(os.getenv('DATADIR'),'streamgap-pepper','gd1_multtime',\n",
    "                                    'gd1_t64sampling_X5_5-9_dens.dat'),\n",
    "                       delimiter=',',max_rows=2)\n",
    "apars= data[0]\n",
    "dens_unp= data[1]\n",
    "data= numpy.genfromtxt(os.path.join(os.getenv('DATADIR'),'streamgap-pepper','gd1_multtime',\n",
    "                                    'gd1_t64sampling_X5_5-9_omega.dat'),\n",
    "                       delimiter=',',max_rows=2)\n",
    "omega_unp= data[1]"
   ]
  },
  {
   "cell_type": "code",
   "execution_count": 102,
   "metadata": {
    "collapsed": false
   },
   "outputs": [],
   "source": [
    "dens_example= []\n",
    "omega_example= []\n",
    "# Perform some simulations, for different mass ranges\n",
    "numpy.random.seed(3)\n",
    "nexample= 4\n",
    "masses= [5.5,6.5,7.5,8.5]\n",
    "for ii in range(nexample):\n",
    "    # Sampling functions\n",
    "    sample_GM= lambda: 10.**(masses[ii]-10.)\\\n",
    "            /bovy_conversion.mass_in_1010msol(V0,R0)\n",
    "    rate= dNencdm(sdf_pepper,10.**masses[ii],Xrs=Xrs,\n",
    "                                       plummer=plummer) \n",
    "    sdf_pepper.simulate(rate=rate,sample_GM=sample_GM,sample_rs=sample_rs,Xrs=Xrs)\n",
    "    densOmega= numpy.array([sdf_pepper._densityAndOmega_par_approx(a) for a in apars]).T\n",
    "    dens_example.append(densOmega[0])\n",
    "    omega_example.append(densOmega[1])"
   ]
  },
  {
   "cell_type": "code",
   "execution_count": 109,
   "metadata": {
    "collapsed": true
   },
   "outputs": [],
   "source": [
    "save_figures= True"
   ]
  },
  {
   "cell_type": "code",
   "execution_count": 107,
   "metadata": {
    "collapsed": false
   },
   "outputs": [
    {
     "data": {
      "image/png": "[encoded data removed]",
      "text/plain": [
       "<matplotlib.figure.Figure at 0x17b319850>"
      ]
     },
     "metadata": {},
     "output_type": "display_data"
    }
   ],
   "source": [
    "bovy_plot.bovy_print(axes_labelsize=18.,xtick_labelsize=14.,ytick_labelsize=18.)\n",
    "figsize(6,7)\n",
    "overplot= False\n",
    "for ii in range(nexample):\n",
    "    bovy_plot.bovy_plot(apars,dens_example[ii]/dens_unp+2.*ii,lw=2.5,\n",
    "                        color='k',\n",
    "                        xrange=[0.,1.3],\n",
    "                        yrange=[0.,2.*nexample+0.5],\n",
    "                        xlabel=r'$\\Delta \\theta_\\parallel$',\n",
    "                        ylabel=r'$\\mathrm{density}/\\mathrm{smooth\\ density}+\\mathrm{constant}$',\n",
    "                        overplot=overplot)\n",
    "    plot(apars,apars*0.+1.+2.*ii,lw=1.5,color='k',ls='--',zorder=0)\n",
    "    bovy_plot.bovy_text(1.025,1.+2.*ii,r'$10^{%.1f}\\,M_\\odot$' % masses[ii],verticalalignment='center',size=18.)\n",
    "    overplot=True\n",
    "if save_figures:\n",
    "    bovy_plot.bovy_end_print(os.path.join(os.getenv('PAPERSDIR'),'2016-stream-stats',\n",
    "                                          'gd1like_densexample_singlemasses.pdf'))"
   ]
  },
  {
   "cell_type": "code",
   "execution_count": 108,
   "metadata": {
    "collapsed": false
   },
   "outputs": [
    {
     "data": {
      "image/png": "[encoded data removed]",
      "text/plain": [
       "<matplotlib.figure.Figure at 0x11fcb50d0>"
      ]
     },
     "metadata": {},
     "output_type": "display_data"
    }
   ],
   "source": [
    "bovy_plot.bovy_print(axes_labelsize=18.,xtick_labelsize=14.,ytick_labelsize=18.)\n",
    "figsize(6,7)\n",
    "overplot= False\n",
    "mult= [3.,3.,1.,1.]\n",
    "for ii in range(nexample):\n",
    "    bovy_plot.bovy_plot(apars,mult[ii]*(omega_example[ii]/omega_unp-1.)+1.+2.*ii,\n",
    "                        lw=2.5,\n",
    "                        color='k',\n",
    "                        xrange=[0.,1.3],\n",
    "                        yrange=[0.,2.*nexample],\n",
    "                        xlabel=r'$\\Delta \\theta_\\parallel$',\n",
    "                        ylabel=r'$\\langle\\Delta \\Omega_\\parallel\\rangle\\big/\\langle\\Delta \\Omega_\\parallel^0\\rangle+\\mathrm{constant}$',\n",
    "                        overplot=overplot)\n",
    "    plot(apars,apars*0.+1.+2.*ii,lw=1.5,color='k',ls='--',zorder=0)\n",
    "    bovy_plot.bovy_text(1.025,1.+2.*ii,r'$10^{%.1f}\\,M_\\odot$' % masses[ii],verticalalignment='center',size=18.)\n",
    "    bovy_plot.bovy_text(0.025,1.+2.*ii+0.1,r'$\\times%i$' % mult[ii],size=18.)\n",
    "    overplot= True\n",
    "if save_figures:\n",
    "    bovy_plot.bovy_end_print(os.path.join(os.getenv('PAPERSDIR'),'2016-stream-stats',\n",
    "                                          'gd1like_omegaexample_singlemasses.pdf'))"
   ]
  },
  {
   "cell_type": "markdown",
   "metadata": {},
   "source": [
    "### Full mass range"
   ]
  },
  {
   "cell_type": "code",
   "execution_count": 82,
   "metadata": {
    "collapsed": true
   },
   "outputs": [],
   "source": [
    "apars= apars[::30]\n",
    "dens_unp= dens_unp[::30]\n",
    "omega_unp= omega_unp[::30]"
   ]
  },
  {
   "cell_type": "code",
   "execution_count": 112,
   "metadata": {
    "collapsed": true
   },
   "outputs": [],
   "source": [
    "# Sampling functions\n",
    "massrange=[5.,9.]\n",
    "plummer= False\n",
    "Xrs= 5.\n",
    "nsubhalo= simulate_streampepper.nsubhalo\n",
    "rs= simulate_streampepper.rs\n",
    "dNencdm= simulate_streampepper.dNencdm\n",
    "sample_GM= lambda: (10.**((-0.5)*massrange[0])\\\n",
    "                                    +(10.**((-0.5)*massrange[1])\\\n",
    "                                          -10.**((-0.5)*massrange[0]))\\\n",
    "                                    *numpy.random.uniform())**(1./(-0.5))\\\n",
    "                                    /bovy_conversion.mass_in_msol(V0,R0)\n",
    "rate_range= numpy.arange(massrange[0]+0.5,massrange[1]+0.5,1)\n",
    "rate= numpy.sum([dNencdm(sdf_pepper,10.**r,Xrs=Xrs,\n",
    "                                plummer=plummer)\n",
    "                        for r in rate_range])\n",
    "sample_rs= lambda x: rs(x*bovy_conversion.mass_in_1010msol(V0,R0)*10.**10.,\n",
    "                            plummer=plummer)"
   ]
  },
  {
   "cell_type": "code",
   "execution_count": 113,
   "metadata": {
    "collapsed": false
   },
   "outputs": [],
   "source": [
    "dens_example2= []\n",
    "omega_example2= []\n",
    "# Perform some simulations\n",
    "numpy.random.seed(3)\n",
    "nexample= 4\n",
    "for ii in range(nexample):\n",
    "    sdf_pepper.simulate(rate=rate,sample_GM=sample_GM,sample_rs=sample_rs,Xrs=Xrs)\n",
    "    densOmega= numpy.array([sdf_pepper._densityAndOmega_par_approx(a) for a in apars]).T\n",
    "    dens_example2.append(densOmega[0])\n",
    "    omega_example2.append(densOmega[1])"
   ]
  },
  {
   "cell_type": "code",
   "execution_count": 117,
   "metadata": {
    "collapsed": false
   },
   "outputs": [
    {
     "data": {
      "image/png": "[encoded data removed]",
      "text/plain": [
       "<matplotlib.figure.Figure at 0x13f158e90>"
      ]
     },
     "metadata": {},
     "output_type": "display_data"
    }
   ],
   "source": [
    "bovy_plot.bovy_print(axes_labelsize=18.,xtick_labelsize=14.,ytick_labelsize=18.)\n",
    "figsize(6,7)\n",
    "overplot= False\n",
    "for ii in range(nexample):\n",
    "    bovy_plot.bovy_plot(apars,dens_example2[ii]/dens_unp+2.*ii,lw=2.5,\n",
    "                        color='k',\n",
    "                        xrange=[0.,1.],\n",
    "                        yrange=[0.,2.*nexample+1.],\n",
    "                        xlabel=r'$\\Delta \\theta_\\parallel$',\n",
    "                        ylabel=r'$\\mathrm{density}/\\mathrm{smooth\\ density}+\\mathrm{constant}$',\n",
    "                        overplot=overplot)\n",
    "    plot(apars,apars*0.+1.+2.*ii,lw=1.5,color='k',ls='--',zorder=0)\n",
    "    overplot=True\n",
    "if save_figures:\n",
    "    bovy_plot.bovy_end_print(os.path.join(os.getenv('PAPERSDIR'),'2016-stream-stats','gd1like_densexample.pdf'))"
   ]
  },
  {
   "cell_type": "code",
   "execution_count": 118,
   "metadata": {
    "collapsed": false
   },
   "outputs": [
    {
     "data": {
      "image/png": "[encoded data removed]",
      "text/plain": [
       "<matplotlib.figure.Figure at 0x123122090>"
      ]
     },
     "metadata": {},
     "output_type": "display_data"
    }
   ],
   "source": [
    "bovy_plot.bovy_print(axes_labelsize=18.,xtick_labelsize=14.,ytick_labelsize=18.)\n",
    "figsize(6,7)\n",
    "overplot= False\n",
    "for ii in range(nexample):\n",
    "    bovy_plot.bovy_plot(apars,omega_example2[ii]/omega_unp+2.*ii,lw=2.5,\n",
    "                        color='k',\n",
    "                        xrange=[0.,1.],\n",
    "                        yrange=[0.,2.*nexample],\n",
    "                        xlabel=r'$\\Delta \\theta_\\parallel$',\n",
    "                        ylabel=r'$\\langle\\Delta \\Omega_\\parallel\\rangle\\big/\\langle\\Delta \\Omega_\\parallel^0\\rangle+\\mathrm{constant}$',\n",
    "                        overplot=overplot)\n",
    "    plot(apars,apars*0.+1.+2.*ii,lw=1.5,color='k',ls='--',zorder=0)\n",
    "    overplot= True\n",
    "if save_figures:\n",
    "    bovy_plot.bovy_end_print(os.path.join(os.getenv('PAPERSDIR'),'2016-stream-stats','gd1like_omegaexample.pdf'))"
   ]
  },
  {
   "cell_type": "code",
   "execution_count": null,
   "metadata": {
    "collapsed": true
   },
   "outputs": [],
   "source": []
  }
 ],
 "metadata": {
  "kernelspec": {
   "display_name": "Python 2",
   "language": "python",
   "name": "python2"
  },
  "language_info": {
   "codemirror_mode": {
    "name": "ipython",
    "version": 2
   },
   "file_extension": ".py",
   "mimetype": "text/x-python",
   "name": "python",
   "nbconvert_exporter": "python",
   "pygments_lexer": "ipython2",
   "version": "2.7.11"
  }
 },
 "nbformat": 4,
 "nbformat_minor": 0
}
